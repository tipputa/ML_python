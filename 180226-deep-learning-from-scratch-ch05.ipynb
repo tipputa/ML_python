{
 "cells": [
  {
   "cell_type": "markdown",
   "metadata": {},
   "source": [
    "# 5章 誤差逆伝播法\n",
    "\n",
    "180226, pp123-163\n",
    "\n",
    "目次\n",
    "\n",
    "1. 計算グラフ\n",
    "2. 連鎖律\n",
    "3. 逆伝播\n",
    "4. 単純なレイヤの実装\n",
    "5. 活性化関数レイヤの実装\n",
    "6. Affine/Softmaxレイヤの実装\n",
    "7. 誤差逆伝播法の実装\n"
   ]
  },
  {
   "cell_type": "markdown",
   "metadata": {},
   "source": [
    "## 概要\n",
    "\n",
    "4章では、ニューラルネットワークの重みパラメータの勾配（重みパラメータに関する損失関数の勾配）は、数値微分によって求めた。数値微分はシンプルで実装は簡単だが、計算に時間がかかる。本章では、重みパラメー タの勾配の計算を効率良く行う手法である「誤差逆伝播法」について学ぶ。\n",
    "\n",
    "誤差逆伝播法を正しく理解する方法\n",
    "1. 数式; 厳密で簡潔になるが、本質的なことを見逃したり数式の羅列にとどまることがある。\n",
    "2. 計算グラフ; 視覚的に説明し、「なるほど!」と納得できるため、本章では計算グラフの説明を行う。\n",
    "\n",
    "重要：　誤差逆伝播法の概念、レイヤによる実装"
   ]
  },
  {
   "cell_type": "markdown",
   "metadata": {},
   "source": [
    "## 1 計算グラフ\n",
    "計算の過程をグラフによって表現。順伝播（左→右）と逆伝播（右→左）。**逆伝播によって微分を効率よく計算**できる。\n",
    "\n",
    "## 2. 連鎖律\n",
    "ある関数が合成関数で表される場合、その合成関数の微分は、合成関数を構成するそれぞれの関数の微分の積によって表すことができる。\n",
    "\n",
    "## 3. 逆伝播\n",
    "加算ノード： そのまま伝播　（インプットを保存する必要なし）。 z = x + y の偏微分は共に1なため。\n",
    "\n",
    "乗算ノード： ひっくり返した値を乗算し伝播（インプットを保持）　z = xy の偏微分はひっくり返るため。\n"
   ]
  },
  {
   "cell_type": "markdown",
   "metadata": {},
   "source": [
    "### 前準備"
   ]
  },
  {
   "cell_type": "code",
   "execution_count": 1,
   "metadata": {
    "collapsed": true
   },
   "outputs": [],
   "source": [
    "# この後必要になるライブラリを一括でDL\n",
    "import numpy as np\n",
    "import sys, os, time\n",
    "from collections import OrderedDict # 順序付きDict\n",
    "import matplotlib.pyplot as plt\n",
    "\n",
    "sys.path.append(os.pardir) # load_mnistするために親ディレクトリを追加。必要に応じて変更 or dataset.mnistを別途import\n",
    "from dataset.mnist import load_mnist"
   ]
  },
  {
   "cell_type": "code",
   "execution_count": 2,
   "metadata": {
    "collapsed": true
   },
   "outputs": [],
   "source": [
    "# データの読み込み\n",
    "(x_train, t_train), (x_test, t_test) = load_mnist(normalize=True, one_hot_label=True)"
   ]
  },
  {
   "cell_type": "code",
   "execution_count": 3,
   "metadata": {
    "collapsed": true
   },
   "outputs": [],
   "source": [
    "## これまでの章で使った関数のインポート。 \n",
    "## 本来は下記の2つのインポート文でも良いが、参照しやすいように記載\n",
    "# from common.layers import *\n",
    "# from common.gradient import numerical_gradient\n",
    "\n",
    "# 3.2 章\n",
    "def sigmoid(x):\n",
    "    return 1 / (1 + np.exp(-x))    \n",
    "\n",
    "# 4.4章より, 微分を使った勾配算出用 \n",
    "def numerical_gradient(f, x):\n",
    "    h = 1e-4 # 0.0001\n",
    "    grad = np.zeros_like(x)\n",
    "    \n",
    "    it = np.nditer(x, flags=['multi_index'], op_flags=['readwrite'])\n",
    "    while not it.finished:\n",
    "        idx = it.multi_index\n",
    "        tmp_val = x[idx]\n",
    "        x[idx] = float(tmp_val) + h\n",
    "        fxh1 = f(x) # f(x+h)\n",
    "        \n",
    "        x[idx] = tmp_val - h \n",
    "        fxh2 = f(x) # f(x-h)\n",
    "        grad[idx] = (fxh1 - fxh2) / (2*h)\n",
    "        \n",
    "        x[idx] = tmp_val # 値を元に戻す\n",
    "        it.iternext()   \n",
    "        \n",
    "    return grad\n",
    "\n",
    "# 3章より\n",
    "def softmax(x):\n",
    "    if x.ndim == 2:\n",
    "        x = x.T\n",
    "        x = x - np.max(x, axis=0)\n",
    "        y = np.exp(x) / np.sum(np.exp(x), axis=0)\n",
    "        return y.T \n",
    "\n",
    "    x = x - np.max(x) # オーバーフロー対策\n",
    "    return np.exp(x) / np.sum(np.exp(x))\n",
    "\n",
    "# 4章より\n",
    "def cross_entropy_error(y, t):\n",
    "    if y.ndim == 1:\n",
    "        t = t.reshape(1, t.size)\n",
    "        y = y.reshape(1, y.size)\n",
    "        \n",
    "    # 教師データがone-hot-vectorの場合、正解ラベルのインデックスに変換\n",
    "    if t.size == y.size:\n",
    "        t = t.argmax(axis=1)\n",
    "             \n",
    "    batch_size = y.shape[0]\n",
    "    return -np.sum(np.log(y[np.arange(batch_size), t] + 1e-7)) / batch_size"
   ]
  },
  {
   "cell_type": "markdown",
   "metadata": {},
   "source": [
    "## 4. 単純なレイヤの実装　（乗算と加算レイヤ）\n",
    "実際にニューラルネットワークを構築するときに、それぞれのレイヤを組み合わせるだけで簡単に計算できるようになる。（ここではデモのみ）"
   ]
  },
  {
   "cell_type": "markdown",
   "metadata": {},
   "source": [
    "乗算レイヤーの実装"
   ]
  },
  {
   "cell_type": "code",
   "execution_count": 4,
   "metadata": {
    "collapsed": true
   },
   "outputs": [],
   "source": [
    "class MulLayer:\n",
    "    def __init__(self):\n",
    "        self.x = None\n",
    "        self.y = None\n",
    "\n",
    "    # 順伝播\n",
    "    def forward(self, x, y):\n",
    "        self.x = x\n",
    "        self.y = y                \n",
    "        out = x * y\n",
    "\n",
    "        return out\n",
    "\n",
    "    # 逆伝播\n",
    "    def backward(self, dout):\n",
    "        dx = dout * self.y\n",
    "        dy = dout * self.x\n",
    "\n",
    "        return dx, dy"
   ]
  },
  {
   "cell_type": "markdown",
   "metadata": {},
   "source": [
    "乗算レイヤを実施に使ってみる。2つのリンゴを購入して消費税1.1が掛かった場合。"
   ]
  },
  {
   "cell_type": "code",
   "execution_count": 5,
   "metadata": {
    "collapsed": false,
    "scrolled": true
   },
   "outputs": [
    {
     "name": "stdout",
     "output_type": "stream",
     "text": [
      "price: 220\n",
      "dApple: 2.2\n",
      "dApple_num: 110\n",
      "dTax: 200\n",
      "dapple * apple = 220\n",
      "dapple_num * apple_num = 220\n",
      "dTax * tax = 220\n"
     ]
    }
   ],
   "source": [
    "# 100円のリンゴ2つを購入し、1.1倍する。\n",
    "apple = 100\n",
    "apple_num = 2\n",
    "tax = 1.1\n",
    "\n",
    "mul_apple_layer = MulLayer()\n",
    "mul_tax_layer = MulLayer()\n",
    "\n",
    "# forward\n",
    "apple_price = mul_apple_layer.forward(apple, apple_num)\n",
    "price = mul_tax_layer.forward(apple_price, tax)\n",
    "\n",
    "# backward\n",
    "dprice = 1\n",
    "dapple_price, dtax = mul_tax_layer.backward(dprice)\n",
    "dapple, dapple_num = mul_apple_layer.backward(dapple_price)\n",
    "\n",
    "print(\"price:\", int(price))\n",
    "print(\"dApple:\", dapple)\n",
    "print(\"dApple_num:\", int(dapple_num))\n",
    "print(\"dTax:\", dtax)\n",
    "\n",
    "print(\"dapple * apple = \" + ('%0.0f' % (dapple * apple)) )\n",
    "print(\"dapple_num * apple_num = \" + ('%0.0f' % (dapple_num * apple_num)))\n",
    "print(\"dTax * tax = \" + ('%0.0f' % (dtax * tax)) )"
   ]
  },
  {
   "cell_type": "markdown",
   "metadata": {},
   "source": [
    "\n",
    "加算レイヤの実装"
   ]
  },
  {
   "cell_type": "code",
   "execution_count": 6,
   "metadata": {
    "collapsed": true
   },
   "outputs": [],
   "source": [
    "class AddLayer:\n",
    "    def __init__(self):\n",
    "        pass\n",
    "\n",
    "    def forward(self, x, y):\n",
    "        out = x + y\n",
    "        return out\n",
    "\n",
    "    def backward(self, dout):\n",
    "        dx = dout * 1\n",
    "        dy = dout * 1\n",
    "        return dx, dy"
   ]
  },
  {
   "cell_type": "markdown",
   "metadata": {},
   "source": [
    "加算レイヤを乗算レイヤと組み合わせて実際に使ってみる。リンゴ2個とみかん3個を購入し、消費税1.1が掛かった場合。"
   ]
  },
  {
   "cell_type": "code",
   "execution_count": 7,
   "metadata": {
    "collapsed": false,
    "scrolled": true
   },
   "outputs": [
    {
     "name": "stdout",
     "output_type": "stream",
     "text": [
      "price: 715\n",
      "dApple: 2.2\n",
      "dApple_num: 110\n",
      "dOrange: 3.3000000000000003\n",
      "dOrange_num: 165\n",
      "dTax: 650\n"
     ]
    }
   ],
   "source": [
    "apple = 100\n",
    "apple_num = 2\n",
    "orange = 150\n",
    "orange_num = 3\n",
    "tax = 1.1\n",
    "\n",
    "# layer\n",
    "mul_apple_layer = MulLayer()\n",
    "mul_orange_layer = MulLayer()\n",
    "add_apple_orange_layer = AddLayer()\n",
    "mul_tax_layer = MulLayer()\n",
    "\n",
    "# forward\n",
    "apple_price = mul_apple_layer.forward(apple, apple_num)  # (1)\n",
    "orange_price = mul_orange_layer.forward(orange, orange_num)  # (2)\n",
    "all_price = add_apple_orange_layer.forward(apple_price, orange_price)  # (3)\n",
    "price = mul_tax_layer.forward(all_price, tax)  # (4)\n",
    "\n",
    "# backward\n",
    "dprice = 1\n",
    "dall_price, dtax = mul_tax_layer.backward(dprice)  # (4)\n",
    "dapple_price, dorange_price = add_apple_orange_layer.backward(dall_price)  # (3)\n",
    "dorange, dorange_num = mul_orange_layer.backward(dorange_price)  # (2)\n",
    "dapple, dapple_num = mul_apple_layer.backward(dapple_price)  # (1)\n",
    "\n",
    "print(\"price:\", int(price))\n",
    "print(\"dApple:\", dapple)\n",
    "print(\"dApple_num:\", int(dapple_num))\n",
    "print(\"dOrange:\", dorange)\n",
    "print(\"dOrange_num:\", int(dorange_num))\n",
    "print(\"dTax:\", dtax)"
   ]
  },
  {
   "cell_type": "markdown",
   "metadata": {},
   "source": [
    "## 5. 活性化関数レイヤの実装\n",
    "ReLU と Sigmoidの実装。Sigmoidの逆伝播は143-146参照。"
   ]
  },
  {
   "cell_type": "code",
   "execution_count": 8,
   "metadata": {
    "collapsed": false,
    "scrolled": true
   },
   "outputs": [],
   "source": [
    "class Relu:\n",
    "    def __init__(self):\n",
    "        self.mask = None\n",
    "\n",
    "    def forward(self, x):\n",
    "        self.mask = (x <= 0)\n",
    "        out = x.copy()\n",
    "        out[self.mask] = 0 # x <= 0で0を出力\n",
    "\n",
    "        return out\n",
    "\n",
    "    def backward(self, dout):\n",
    "        dout[self.mask] = 0 # x <= 0で0を出力\n",
    "        dx = dout\n",
    "\n",
    "        return dx\n"
   ]
  },
  {
   "cell_type": "code",
   "execution_count": 9,
   "metadata": {
    "collapsed": true
   },
   "outputs": [],
   "source": [
    "class Sigmoid:\n",
    "    def __init__(self):\n",
    "        self.out = None\n",
    "\n",
    "    def forward(self, x):\n",
    "        out = sigmoid(x)\n",
    "        self.out = out\n",
    "        return out\n",
    "\n",
    "    def backward(self, dout):\n",
    "        dx = dout * (1.0 - self.out) * self.out\n",
    "\n",
    "        return dx"
   ]
  },
  {
   "cell_type": "markdown",
   "metadata": {
    "collapsed": true
   },
   "source": [
    "## 6. Affine/Softmaxレイヤの実装\n",
    "入力である行列に重さを乗算し、バイアスを加える。(Y=XW+B)\n",
    "\n",
    "Affine: 行列の積の計算を、幾何学の分野では「アフィン変換」という。\n",
    "\n",
    "\n",
    "入力（X）への逆伝播： ∂L/∂X = ∂L/∂Y ・ W.T\n",
    "\n",
    "重み（W）への逆伝播：∂L/∂W = X.T ・ ∂L/∂Y\n",
    "\n",
    "バイアス（B）への逆伝播：∂L/∂B = ∂L/∂Yの列方向に対する和"
   ]
  },
  {
   "cell_type": "code",
   "execution_count": 10,
   "metadata": {
    "collapsed": true
   },
   "outputs": [],
   "source": [
    "class Affine:\n",
    "    def __init__(self, W, b):\n",
    "        self.W =W\n",
    "        self.b = b\n",
    "        \n",
    "        self.x = None\n",
    "        self.original_x_shape = None\n",
    "        # 重み・バイアスパラメータの微分\n",
    "        self.dW = None\n",
    "        self.db = None\n",
    "\n",
    "    def forward(self, x):\n",
    "        # テンソル対応\n",
    "        self.original_x_shape = x.shape\n",
    "        x = x.reshape(x.shape[0], -1)\n",
    "        self.x = x\n",
    "\n",
    "        out = np.dot(self.x, self.W) + self.b\n",
    "\n",
    "        return out\n",
    "\n",
    "    def backward(self, dout):\n",
    "        dx = np.dot(dout, self.W.T)\n",
    "        self.dW = np.dot(self.x.T, dout)\n",
    "        self.db = np.sum(dout, axis=0)\n",
    "        \n",
    "        dx = dx.reshape(*self.original_x_shape)  # 入力データの形状に戻す（テンソル対応）\n",
    "        return dx"
   ]
  },
  {
   "cell_type": "markdown",
   "metadata": {},
   "source": [
    "ここではSoftmaxと交差エントロピー誤差をまとめて実装している。そうすることで、逆伝播の値がy-tという非常にキレイな値となる。\n",
    "\n",
    "Softmaxには交差エントロピー誤差を、恒等関数の場合は二乗和誤差を損失関数として求めると、キレイな結果となる。"
   ]
  },
  {
   "cell_type": "code",
   "execution_count": 11,
   "metadata": {
    "collapsed": true
   },
   "outputs": [],
   "source": [
    "#Softmaxと交差 エントロピー誤差をまとめて実装。\n",
    "class SoftmaxWithLoss:\n",
    "    def __init__(self):\n",
    "        self.loss = None\n",
    "        self.y = None # softmaxの出力\n",
    "        self.t = None # 教師データ\n",
    "\n",
    "    def forward(self, x, t):\n",
    "        self.t = t\n",
    "        self.y = softmax(x)\n",
    "        self.loss = cross_entropy_error(self.y, self.t)\n",
    "        \n",
    "        return self.loss\n",
    "\n",
    "    def backward(self, dout=1):\n",
    "        batch_size = self.t.shape[0]\n",
    "        if self.t.size == self.y.size: # 教師データがone-hot-vectorの場合\n",
    "            dx = (self.y - self.t) / batch_size\n",
    "        else:\n",
    "            dx = self.y.copy()\n",
    "            dx[np.arange(batch_size), self.t] -= 1\n",
    "            dx = dx / batch_size\n",
    "        \n",
    "        return dx"
   ]
  },
  {
   "cell_type": "markdown",
   "metadata": {
    "collapsed": true
   },
   "source": [
    "**具体例1**： Softmaxレイヤの出力（0.3, 0.2, 0.5）で教師ラベルが（0, 1, 0）の場合\n",
    "\n",
    "正解の確率が20%しかない。y-tが（0.3, -0.8, 0.5）と大きい値となり、大きな誤差が逆伝播される。\n",
    "\n",
    "**具体例2**： Softmaxレイヤの出力（0.01, 0.99, 0）で教師ラベルが（0, 1, 0）の場合\n",
    "\n",
    "正解の確率が99%。y-tが（0.01, -0.01, 0）となり、小さい誤差が逆伝播される。"
   ]
  },
  {
   "cell_type": "markdown",
   "metadata": {},
   "source": [
    "## 7. 誤差逆伝播法の実装\n",
    "これまでのレイヤを組み合わせることで、まるでレゴブロックのようにニューラルネットワークを実装することができる。"
   ]
  },
  {
   "cell_type": "code",
   "execution_count": 12,
   "metadata": {
    "collapsed": true
   },
   "outputs": [],
   "source": [
    "class TwoLayerNet:\n",
    "\n",
    "    def __init__(self, input_size, hidden_size, output_size, weight_init_std = 0.01):\n",
    "        # 重みの初期化\n",
    "        self.params = {}\n",
    "        self.params['W1'] = weight_init_std * np.random.randn(input_size, hidden_size)\n",
    "        self.params['b1'] = np.zeros(hidden_size)\n",
    "        self.params['W2'] = weight_init_std * np.random.randn(hidden_size, output_size) \n",
    "        self.params['b2'] = np.zeros(output_size)\n",
    "\n",
    "        # レイヤの生成\n",
    "        self.layers = OrderedDict()\n",
    "        self.layers['Affine1'] = Affine(self.params['W1'], self.params['b1'])\n",
    "        self.layers['Relu1'] = Relu()\n",
    "        self.layers['Affine2'] = Affine(self.params['W2'], self.params['b2'])\n",
    "\n",
    "        self.lastLayer = SoftmaxWithLoss()\n",
    "        \n",
    "    def predict(self, x):\n",
    "        for layer in self.layers.values():\n",
    "            x = layer.forward(x)\n",
    "        \n",
    "        return x\n",
    "        \n",
    "    # x:入力データ, t:教師データ\n",
    "    def loss(self, x, t):\n",
    "        y = self.predict(x)\n",
    "        return self.lastLayer.forward(y, t)\n",
    "    \n",
    "    def accuracy(self, x, t):\n",
    "        y = self.predict(x)\n",
    "        y = np.argmax(y, axis=1)\n",
    "        if t.ndim != 1 : t = np.argmax(t, axis=1)\n",
    "        \n",
    "        accuracy = np.sum(y == t) / float(x.shape[0])\n",
    "        return accuracy\n",
    "        \n",
    "    # x:入力データ, t:教師データ\n",
    "    def numerical_gradient(self, x, t):\n",
    "        loss_W = lambda W: self.loss(x, t)\n",
    "        \n",
    "        grads = {}\n",
    "        grads['W1'] = numerical_gradient(loss_W, self.params['W1'])\n",
    "        grads['b1'] = numerical_gradient(loss_W, self.params['b1'])\n",
    "        grads['W2'] = numerical_gradient(loss_W, self.params['W2'])\n",
    "        grads['b2'] = numerical_gradient(loss_W, self.params['b2'])\n",
    "        \n",
    "        return grads\n",
    "        \n",
    "    def gradient(self, x, t):\n",
    "        # forward\n",
    "        self.loss(x, t)\n",
    "\n",
    "        # backward\n",
    "        dout = 1\n",
    "        dout = self.lastLayer.backward(dout)\n",
    "        \n",
    "        layers = list(self.layers.values())\n",
    "        layers.reverse()\n",
    "        for layer in layers:\n",
    "            dout = layer.backward(dout)\n",
    "\n",
    "        # 設定\n",
    "        grads = {}\n",
    "        grads['W1'], grads['b1'] = self.layers['Affine1'].dW, self.layers['Affine1'].db\n",
    "        grads['W2'], grads['b2'] = self.layers['Affine2'].dW, self.layers['Affine2'].db\n",
    "\n",
    "        return grads\n"
   ]
  },
  {
   "cell_type": "code",
   "execution_count": 13,
   "metadata": {
    "collapsed": false
   },
   "outputs": [],
   "source": [
    "# 実行速度の差を確認する用\n",
    "import time\n",
    "class Timer:\n",
    "    def __init__(self):\n",
    "        self.start = time.time()\n",
    "        self.lap_start = self.start\n",
    "        self.lap_list = []\n",
    "\n",
    "    def lap_show (self):\n",
    "        now = time.time()\n",
    "        lap = now - self.lap_start\n",
    "        self.lap_list.append(lap)\n",
    "        self.lap_start = now\n",
    "        print(\"lap \" + str(len(self.lap_list)) + ((\": %0.7f sec\") %lap) )"
   ]
  },
  {
   "cell_type": "code",
   "execution_count": 14,
   "metadata": {
    "collapsed": false,
    "scrolled": false
   },
   "outputs": [
    {
     "name": "stdout",
     "output_type": "stream",
     "text": [
      "実行速度 lap1: 数値微分、lap2: 誤差逆伝播法\n",
      "lap 1: 17.7218502 sec\n",
      "lap 2: 0.0016599 sec\n",
      "W1:4.19503097552e-10\n",
      "b2:1.39655118951e-07\n",
      "W2:5.16147253303e-09\n",
      "b1:2.7570582356e-09\n",
      "誤差逆伝播法の方が10676.6倍早い\n"
     ]
    }
   ],
   "source": [
    "network = TwoLayerNet(input_size=784, hidden_size=50, output_size=10)\n",
    "\n",
    "x_batch = x_train[:3]\n",
    "t_batch = t_train[:3]\n",
    "\n",
    "timer = Timer()\n",
    "print(\"実行速度 lap1: 数値微分、lap2: 誤差逆伝播法\")\n",
    "\n",
    "grad_numerical = network.numerical_gradient(x_batch, t_batch) # 数値微分\n",
    "timer.lap_show()\n",
    "\n",
    "grad_backprop = network.gradient(x_batch, t_batch)\n",
    "timer.lap_show()\n",
    "\n",
    "for key in grad_numerical.keys():\n",
    "    diff = np.average( np.abs(grad_backprop[key] - grad_numerical[key]) )\n",
    "    print(key + \":\" + str(diff))\n",
    "\n",
    "print((\"誤差逆伝播法の方が%0.1f倍早い\" % (timer.lap_list[0] / timer.lap_list[1])))"
   ]
  },
  {
   "cell_type": "markdown",
   "metadata": {},
   "source": [
    "一応ここで何が起きているのか確認（時間があれば）"
   ]
  },
  {
   "cell_type": "code",
   "execution_count": 15,
   "metadata": {
    "collapsed": false
   },
   "outputs": [
    {
     "name": "stdout",
     "output_type": "stream",
     "text": [
      "x_train.shape:(60000, 784)\n",
      "t_train.shape:(60000, 10)\n",
      "x_train[0]の画像。28×28 = 784\n"
     ]
    },
    {
     "data": {
      "image/png": "[encoded data removed]",
      "text/plain": [
       "<matplotlib.figure.Figure at 0x111e8af28>"
      ]
     },
     "metadata": {},
     "output_type": "display_data"
    }
   ],
   "source": [
    "print(\"x_train.shape:\" + str(x_train.shape))\n",
    "print(\"t_train.shape:\" + str(t_train.shape))\n",
    "print(\"x_train[0]の画像。28×28 = 784\")\n",
    "\n",
    "# 画像の表示\n",
    "import matplotlib\n",
    "%matplotlib inline\n",
    "some_digit = x_train[0]\n",
    "some_digit_image = some_digit.reshape(28, 28)\n",
    "plt.imshow(some_digit_image, cmap = matplotlib.cm.binary, interpolation=\"nearest\")\n",
    "plt.axis(\"off\")\n",
    "plt.show()"
   ]
  },
  {
   "cell_type": "code",
   "execution_count": 16,
   "metadata": {
    "collapsed": false,
    "scrolled": false
   },
   "outputs": [
    {
     "name": "stdout",
     "output_type": "stream",
     "text": [
      "x_batch: (3, 784)\n",
      "W1: (784, 50)\n",
      "b1: (50,)\n",
      "W2: (50, 10)\n",
      "b2: (10,)\n"
     ]
    }
   ],
   "source": [
    "print(\"x_batch: \" + str(x_batch.shape))\n",
    "print(\"W1: \" + str(network.params['W1'].shape))\n",
    "print(\"b1: \" + str(network.params['b1'].shape))\n",
    "print(\"W2: \" + str(network.params['W2'].shape))\n",
    "print(\"b2: \" + str(network.params['b2'].shape))"
   ]
  },
  {
   "cell_type": "code",
   "execution_count": 17,
   "metadata": {
    "collapsed": false,
    "scrolled": false
   },
   "outputs": [
    {
     "name": "stdout",
     "output_type": "stream",
     "text": [
      "x_batch: (3, 784)\n",
      "Affine1の結果: X (3,784) * W (784, 50) + b1(50,) = (3, 50)\n",
      "After affine1: (3, 50)\n",
      "[-0.03346961 -0.02209822  0.09428647  0.07258174 -0.00075832  0.04128724\n",
      "  0.01685031  0.04622215 -0.09349863  0.16950605  0.21224032 -0.04984727\n",
      " -0.07236086  0.03207296  0.03925295 -0.02701086  0.07330976 -0.14762438\n",
      " -0.03713037 -0.00277914 -0.08626437  0.04495235  0.04345102 -0.07364867\n",
      "  0.0255347   0.11300004  0.01206745 -0.01550124  0.12050815 -0.06227472\n",
      "  0.0123423   0.12186568  0.04213566 -0.13564951 -0.16607256  0.04745166\n",
      " -0.07513735  0.02154409 -0.08790411  0.01461395 -0.03221075  0.02541651\n",
      " -0.07729277 -0.05064019  0.04622644  0.00264495 -0.14710056  0.02368563\n",
      " -0.0868902  -0.12672689]\n",
      "\n",
      "ReLU1の結果： (3, 50)の中でx<0を0に置換\n",
      "After ReLU: (3, 50)\n",
      "[ 0.          0.          0.09428647  0.07258174  0.          0.04128724\n",
      "  0.01685031  0.04622215  0.          0.16950605  0.21224032  0.          0.\n",
      "  0.03207296  0.03925295  0.          0.07330976  0.          0.          0.\n",
      "  0.          0.04495235  0.04345102  0.          0.0255347   0.11300004\n",
      "  0.01206745  0.          0.12050815  0.          0.0123423   0.12186568\n",
      "  0.04213566  0.          0.          0.04745166  0.          0.02154409\n",
      "  0.          0.01461395  0.          0.02541651  0.          0.\n",
      "  0.04622644  0.00264495  0.          0.02368563  0.          0.        ]\n",
      "\n",
      "Affine2の結果: X (3,50) * W2 (50, 10) + b2(10,) = (3, 10)\n",
      "After affine2: (3, 10)\n",
      "[  7.08849603e-03  -9.76074914e-04  -9.62285676e-05  -1.26580801e-03\n",
      "   5.50477130e-03   4.39597581e-03   6.19621623e-03  -3.79605637e-04\n",
      "   3.50362238e-03  -2.93540531e-03]\n",
      "\n",
      "softmax, 確率に変換\n",
      "[ 0.10049914  0.09969192  0.09977967  0.09966304  0.10034011  0.10022891\n",
      "  0.10040951  0.0997514   0.10013951  0.09949678]\n",
      "1つのサンプルにつき総和は1.0\n",
      "\n",
      "交差エントロピー誤差：2.30162797276\n"
     ]
    }
   ],
   "source": [
    "print(\"x_batch: \" + str(x_batch.shape))\n",
    "print(\"Affine1の結果: X (3,784) * W (784, 50) + b1(50,) = (3, 50)\")\n",
    "res1 = network.layers['Affine1'].forward(x_batch)\n",
    "print(\"After affine1: \" + str(res1.shape))\n",
    "print(res1[0])\n",
    "print(\"\")\n",
    "\n",
    "print(\"ReLU1の結果： (3, 50)の中でx<0を0に置換\")\n",
    "res2 = network.layers['Relu1'].forward(res1)\n",
    "print(\"After ReLU: \" + str(res2.shape))\n",
    "print(res2[0])\n",
    "print(\"\")\n",
    "\n",
    "print(\"Affine2の結果: X (3,50) * W2 (50, 10) + b2(10,) = (3, 10)\")\n",
    "res3 = network.layers['Affine2'].forward(res2)\n",
    "print(\"After affine2: \" + str(res3.shape))\n",
    "print(res3[0])\n",
    "print(\"\")\n",
    "\n",
    "print(\"softmax, 確率に変換\")\n",
    "res4 = softmax(res3)\n",
    "print(res4[0])\n",
    "print(\"1つのサンプルにつき総和は\" + str(np.sum(res4[0])))\n",
    "print(\"\")\n",
    "\n",
    "res5 = cross_entropy_error(res4, t_batch)\n",
    "print(\"交差エントロピー誤差：\" + str(res5))"
   ]
  },
  {
   "cell_type": "markdown",
   "metadata": {},
   "source": [
    "上記が1セット。勾配を求めるために数値微分を行う場合、各パラメーターの各値につき±hの交差エントロピー誤差を算出する必要がある。\n",
    "\n",
    "(W1(784 * 50) + b1(50) + W2(50 * 10) + b2(10))  * 2 = 79520回上記の計算を繰り返して、やっと1回全てのパラメータを更新できる。"
   ]
  },
  {
   "cell_type": "code",
   "execution_count": 18,
   "metadata": {
    "collapsed": false,
    "scrolled": true
   },
   "outputs": [
    {
     "data": {
      "text/plain": [
       "79520"
      ]
     },
     "execution_count": 18,
     "metadata": {},
     "output_type": "execute_result"
    }
   ],
   "source": [
    "(784*50+50+50*10+10)*2"
   ]
  },
  {
   "cell_type": "markdown",
   "metadata": {},
   "source": [
    "一方、誤差逆伝播法の場合、逆伝播を行っていくだけ。"
   ]
  },
  {
   "cell_type": "code",
   "execution_count": 19,
   "metadata": {
    "collapsed": false,
    "scrolled": true
   },
   "outputs": [
    {
     "name": "stdout",
     "output_type": "stream",
     "text": [
      "まず一度1セット流して値をセット\n",
      "loss 2.30162797276\n",
      "\n",
      "逆伝播, softmax & cross_entropy_error, 計算内容：y-t\n",
      "(3, 10)\n",
      "[ 0.03349971  0.03323064  0.03325989  0.03322101  0.0334467  -0.2999237\n",
      "  0.03346984  0.03325047  0.03337984  0.03316559]\n",
      "\n",
      "逆伝播, Affine2, 計算内容： 2回内積, 1回総和\n",
      "(3, 50)\n",
      "[  2.19227530e-03   5.24925815e-03  -1.74718373e-04   1.04108396e-05\n",
      "  -2.00154219e-03  -1.46907545e-03  -6.96940644e-03   4.42597134e-03\n",
      "  -7.53770142e-03  -2.16003111e-03  -7.72511713e-04  -2.17785675e-03\n",
      "   1.46818527e-03  -4.99829772e-04   1.77953608e-03  -6.64849473e-03\n",
      "   2.57168171e-03  -9.56849227e-04  -8.36352133e-04   1.76210897e-03\n",
      "  -5.73687636e-03  -9.98545451e-06   5.26668354e-03   6.70992290e-03\n",
      "   5.34164041e-04  -3.20545869e-03  -2.71229881e-03  -1.16327486e-03\n",
      "   5.76032200e-03  -2.42314604e-03   8.07136820e-04  -5.44532344e-03\n",
      "  -6.32206901e-05   4.27886241e-04  -8.55563056e-04  -6.87758454e-03\n",
      "  -4.25330011e-03   2.35374108e-03   8.77283161e-04   2.29986832e-03\n",
      "  -1.61236361e-03  -3.27186930e-03   1.33737983e-03  -3.24994345e-03\n",
      "   1.10590490e-03   2.62768405e-03  -2.33449996e-03  -4.26671798e-03\n",
      "   1.33316686e-03  -3.04352663e-03]\n",
      "\n",
      "逆伝播, ReLU1, 計算内容： x<0の判定、0の代入\n",
      "(3, 50)\n",
      "[  0.00000000e+00   0.00000000e+00  -1.74718373e-04   1.04108396e-05\n",
      "   0.00000000e+00  -1.46907545e-03  -6.96940644e-03   4.42597134e-03\n",
      "   0.00000000e+00  -2.16003111e-03  -7.72511713e-04   0.00000000e+00\n",
      "   0.00000000e+00  -4.99829772e-04   1.77953608e-03   0.00000000e+00\n",
      "   2.57168171e-03   0.00000000e+00   0.00000000e+00   0.00000000e+00\n",
      "   0.00000000e+00  -9.98545451e-06   5.26668354e-03   0.00000000e+00\n",
      "   5.34164041e-04  -3.20545869e-03  -2.71229881e-03   0.00000000e+00\n",
      "   5.76032200e-03   0.00000000e+00   8.07136820e-04  -5.44532344e-03\n",
      "  -6.32206901e-05   0.00000000e+00   0.00000000e+00  -6.87758454e-03\n",
      "   0.00000000e+00   2.35374108e-03   0.00000000e+00   2.29986832e-03\n",
      "   0.00000000e+00  -3.27186930e-03   0.00000000e+00   0.00000000e+00\n",
      "   1.10590490e-03   2.62768405e-03   0.00000000e+00  -4.26671798e-03\n",
      "   0.00000000e+00   0.00000000e+00]\n",
      "\n",
      "逆伝播, Affine2, 計算内容：2回内積, 1回総和\n",
      "(3, 784)\n",
      "\n",
      "W1, W2, b1, b2もこれで計算されている\n",
      "W1(784, 50)\n",
      "W2(50, 10)\n",
      "b1(50,)\n",
      "b2(10,)\n"
     ]
    }
   ],
   "source": [
    "print(\"まず一度1セット流して値をセット\")\n",
    "print(\"loss \" + str(network.loss(x_batch, t_batch)))\n",
    "print(\"\")\n",
    "\n",
    "print(\"逆伝播, softmax & cross_entropy_error, 計算内容：y-t\")\n",
    "dout = 1\n",
    "dout = network.lastLayer.backward(dout)\n",
    "print(dout.shape)\n",
    "print(dout[0])\n",
    "print(\"\")\n",
    "\n",
    "print(\"逆伝播, Affine2, 計算内容： 2回内積, 1回総和\")\n",
    "dout = network.layers['Affine2'].backward(dout)\n",
    "print(dout.shape)\n",
    "print(dout[0])\n",
    "print(\"\")\n",
    "\n",
    "print(\"逆伝播, ReLU1, 計算内容： x<0の判定、0の代入\")\n",
    "dout = network.layers['Relu1'].backward(dout)\n",
    "print(dout.shape)\n",
    "print(dout[0])\n",
    "print(\"\")\n",
    "\n",
    "print(\"逆伝播, Affine2, 計算内容：2回内積, 1回総和\")\n",
    "dout = network.layers['Affine1'].backward(dout)\n",
    "print(dout.shape)\n",
    "print(\"\")\n",
    "\n",
    "print(\"W1, W2, b1, b2もこれで計算されている\")\n",
    "print(\"W1\" + str(network.layers['Affine1'].dW.shape))\n",
    "print(\"W2\" + str(network.layers['Affine2'].dW.shape))\n",
    "print(\"b1\" + str(network.layers['Affine1'].db.shape))\n",
    "print(\"b2\" + str(network.layers['Affine2'].db.shape))"
   ]
  },
  {
   "cell_type": "markdown",
   "metadata": {},
   "source": [
    "ほぼほぼ同じ精度を出しているのに、計算回数は数万倍ぐらい違う。計算が1万倍ぐらい早くなるのも当然である。"
   ]
  },
  {
   "cell_type": "markdown",
   "metadata": {},
   "source": [
    "最後に、一応実装結果を確認してみる。（4章と同一であるため説明省略）"
   ]
  },
  {
   "cell_type": "code",
   "execution_count": 20,
   "metadata": {
    "collapsed": false,
    "scrolled": true
   },
   "outputs": [
    {
     "name": "stdout",
     "output_type": "stream",
     "text": [
      "lap 1: 1.3485000 sec\n",
      "train acc, test acc | 0.0644666666667, 0.059\n",
      "lap 2: 4.4882171 sec\n",
      "train acc, test acc | 0.9025, 0.9047\n",
      "lap 3: 3.3373680 sec\n",
      "train acc, test acc | 0.9201, 0.9223\n",
      "lap 4: 3.1633780 sec\n",
      "train acc, test acc | 0.937366666667, 0.9383\n",
      "lap 5: 3.1721389 sec\n",
      "train acc, test acc | 0.947483333333, 0.9481\n",
      "lap 6: 2.7860980 sec\n",
      "train acc, test acc | 0.951683333333, 0.9496\n",
      "lap 7: 3.2809110 sec\n",
      "train acc, test acc | 0.9584, 0.9569\n",
      "lap 8: 2.4228640 sec\n",
      "train acc, test acc | 0.963266666667, 0.9595\n",
      "lap 9: 3.1045799 sec\n",
      "train acc, test acc | 0.964533333333, 0.9613\n",
      "lap 10: 3.7780511 sec\n",
      "train acc, test acc | 0.969366666667, 0.9641\n",
      "lap 11: 3.4093261 sec\n",
      "train acc, test acc | 0.971466666667, 0.9659\n",
      "lap 12: 2.6490018 sec\n",
      "train acc, test acc | 0.97265, 0.9671\n",
      "lap 13: 3.0520132 sec\n",
      "train acc, test acc | 0.9749, 0.9694\n",
      "lap 14: 3.1590970 sec\n",
      "train acc, test acc | 0.97505, 0.968\n",
      "lap 15: 2.7254748 sec\n",
      "train acc, test acc | 0.977216666667, 0.9698\n",
      "lap 16: 3.1717241 sec\n",
      "train acc, test acc | 0.978683333333, 0.9698\n",
      "lap 17: 2.9946101 sec\n",
      "train acc, test acc | 0.979233333333, 0.971\n"
     ]
    }
   ],
   "source": [
    "network = TwoLayerNet(input_size=784, hidden_size=50, output_size=10)\n",
    "\n",
    "iters_num = 10000\n",
    "train_size = x_train.shape[0]\n",
    "batch_size = 100\n",
    "learning_rate = 0.1\n",
    "\n",
    "train_loss_list = []\n",
    "train_acc_list = []\n",
    "test_acc_list = []\n",
    "\n",
    "iter_per_epoch = max(train_size / batch_size, 1)\n",
    "\n",
    "timer = Timer()\n",
    "\n",
    "for i in range(iters_num):\n",
    "    batch_mask = np.random.choice(train_size, batch_size)\n",
    "    x_batch = x_train[batch_mask]\n",
    "    t_batch = t_train[batch_mask]\n",
    "    \n",
    "    # 勾配\n",
    "    #grad = network.numerical_gradient(x_batch, t_batch)\n",
    "    grad = network.gradient(x_batch, t_batch)\n",
    "    \n",
    "    # 更新\n",
    "    for key in ('W1', 'b1', 'W2', 'b2'):\n",
    "        network.params[key] -= learning_rate * grad[key]\n",
    "    \n",
    "    loss = network.loss(x_batch, t_batch)\n",
    "    train_loss_list.append(loss)\n",
    "    \n",
    "    if i % iter_per_epoch == 0:\n",
    "        train_acc = network.accuracy(x_train, t_train)\n",
    "        test_acc = network.accuracy(x_test, t_test)\n",
    "        train_acc_list.append(train_acc)\n",
    "        test_acc_list.append(test_acc)\n",
    "        timer.lap_show()\n",
    "        print(\"train acc, test acc | \" + str(train_acc) + \", \" + str(test_acc))\n"
   ]
  },
  {
   "cell_type": "code",
   "execution_count": 21,
   "metadata": {
    "collapsed": false
   },
   "outputs": [
    {
     "data": {
      "image/png": "[encoded data removed]",
      "text/plain": [
       "<matplotlib.figure.Figure at 0x11202b0f0>"
      ]
     },
     "metadata": {},
     "output_type": "display_data"
    }
   ],
   "source": [
    "# plot accuracy\n",
    "markers = {'train': 'o', 'test': 's'}\n",
    "x = np.arange(len(train_acc_list))\n",
    "plt.plot(x, train_acc_list, label='train acc')\n",
    "plt.plot(x, test_acc_list, label='test acc', linestyle='--')\n",
    "plt.xlabel(\"epochs\")\n",
    "plt.ylabel(\"accuracy\")\n",
    "plt.ylim(0, 1.0)\n",
    "plt.legend(loc='lower right')\n",
    "plt.show()"
   ]
  }
 ],
 "metadata": {
  "kernelspec": {
   "display_name": "Python 3",
   "language": "python",
   "name": "python3"
  },
  "language_info": {
   "codemirror_mode": {
    "name": "ipython",
    "version": 3
   },
   "file_extension": ".py",
   "mimetype": "text/x-python",
   "name": "python",
   "nbconvert_exporter": "python",
   "pygments_lexer": "ipython3",
   "version": "3.5.4"
  }
 },
 "nbformat": 4,
 "nbformat_minor": 0
}
